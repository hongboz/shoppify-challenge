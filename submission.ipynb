{
 "cells": [
  {
   "cell_type": "code",
   "execution_count": 32,
   "metadata": {},
   "outputs": [
    {
     "data": {
      "text/html": [
       "<div>\n",
       "<style scoped>\n",
       "    .dataframe tbody tr th:only-of-type {\n",
       "        vertical-align: middle;\n",
       "    }\n",
       "\n",
       "    .dataframe tbody tr th {\n",
       "        vertical-align: top;\n",
       "    }\n",
       "\n",
       "    .dataframe thead th {\n",
       "        text-align: right;\n",
       "    }\n",
       "</style>\n",
       "<table border=\"1\" class=\"dataframe\">\n",
       "  <thead>\n",
       "    <tr style=\"text-align: right;\">\n",
       "      <th></th>\n",
       "      <th>order_id</th>\n",
       "      <th>shop_id</th>\n",
       "      <th>user_id</th>\n",
       "      <th>order_amount</th>\n",
       "      <th>total_items</th>\n",
       "      <th>payment_method</th>\n",
       "      <th>created_at</th>\n",
       "    </tr>\n",
       "  </thead>\n",
       "  <tbody>\n",
       "    <tr>\n",
       "      <th>0</th>\n",
       "      <td>1</td>\n",
       "      <td>53</td>\n",
       "      <td>746</td>\n",
       "      <td>224</td>\n",
       "      <td>2</td>\n",
       "      <td>cash</td>\n",
       "      <td>2017-03-13 12:36:56</td>\n",
       "    </tr>\n",
       "    <tr>\n",
       "      <th>1</th>\n",
       "      <td>2</td>\n",
       "      <td>92</td>\n",
       "      <td>925</td>\n",
       "      <td>90</td>\n",
       "      <td>1</td>\n",
       "      <td>cash</td>\n",
       "      <td>2017-03-03 17:38:52</td>\n",
       "    </tr>\n",
       "    <tr>\n",
       "      <th>2</th>\n",
       "      <td>3</td>\n",
       "      <td>44</td>\n",
       "      <td>861</td>\n",
       "      <td>144</td>\n",
       "      <td>1</td>\n",
       "      <td>cash</td>\n",
       "      <td>2017-03-14 4:23:56</td>\n",
       "    </tr>\n",
       "    <tr>\n",
       "      <th>3</th>\n",
       "      <td>4</td>\n",
       "      <td>18</td>\n",
       "      <td>935</td>\n",
       "      <td>156</td>\n",
       "      <td>1</td>\n",
       "      <td>credit_card</td>\n",
       "      <td>2017-03-26 12:43:37</td>\n",
       "    </tr>\n",
       "    <tr>\n",
       "      <th>4</th>\n",
       "      <td>5</td>\n",
       "      <td>18</td>\n",
       "      <td>883</td>\n",
       "      <td>156</td>\n",
       "      <td>1</td>\n",
       "      <td>credit_card</td>\n",
       "      <td>2017-03-01 4:35:11</td>\n",
       "    </tr>\n",
       "  </tbody>\n",
       "</table>\n",
       "</div>"
      ],
      "text/plain": [
       "   order_id  shop_id  user_id  order_amount  total_items payment_method  \\\n",
       "0         1       53      746           224            2           cash   \n",
       "1         2       92      925            90            1           cash   \n",
       "2         3       44      861           144            1           cash   \n",
       "3         4       18      935           156            1    credit_card   \n",
       "4         5       18      883           156            1    credit_card   \n",
       "\n",
       "            created_at  \n",
       "0  2017-03-13 12:36:56  \n",
       "1  2017-03-03 17:38:52  \n",
       "2   2017-03-14 4:23:56  \n",
       "3  2017-03-26 12:43:37  \n",
       "4   2017-03-01 4:35:11  "
      ]
     },
     "execution_count": 32,
     "metadata": {},
     "output_type": "execute_result"
    }
   ],
   "source": [
    "import pandas as pd\n",
    "\n",
    "data = pd.read_csv(\"dataset.csv\")\n",
    "data.head()"
   ]
  },
  {
   "cell_type": "code",
   "execution_count": 6,
   "metadata": {},
   "outputs": [
    {
     "name": "stdout",
     "output_type": "stream",
     "text": [
      "2000 8.7872\n"
     ]
    }
   ],
   "source": [
    "print(data[\"total_items\"].max(), data[\"total_items\"].mean())"
   ]
  },
  {
   "cell_type": "markdown",
   "metadata": {},
   "source": [
    "### Question 1\n",
    "\n",
    "a. The biggest issue with calculating the average order value is that the number of shoes in each order can vary drastically and affect our AOV. We see that there was at least 1 customer who ordered 2000 shoes in 1 order and that the average number of shoes sold per order is 8.8. This means that our AOV of \\\\$3145 roughly indicates the cost of 9 pairs of shoes which would mean that the average pair of shoes would cost around \\\\$349. This is much better than the AOV, but I feel like it could be better as common sense and skimming through the data would tell you that \\$349 is still a bit too high."
   ]
  },
  {
   "cell_type": "markdown",
   "metadata": {},
   "source": [
    "b. The metric that I would report for this dataset is average cost of 1 pair of shoes across all 100 shopify shoe stores after removing any outliers. This metric will take into account orders with a high amount of shoes as well as specialty stores that only sell really expensive shoes to give an accurate understanding of what the average consumer is spending on 1 pair of shoes. "
   ]
  },
  {
   "cell_type": "code",
   "execution_count": 33,
   "metadata": {},
   "outputs": [
    {
     "data": {
      "text/plain": [
       "3085    25725.0\n",
       "1367      352.0\n",
       "4116      201.0\n",
       "4458      196.0\n",
       "4592      195.0\n",
       "2494      193.0\n",
       "3689      190.0\n",
       "4586      187.0\n",
       "384       184.0\n",
       "970       181.0\n",
       "2222      178.0\n",
       "4171      177.0\n",
       "2416      176.0\n",
       "793       173.0\n",
       "3849      172.0\n",
       "172       171.0\n",
       "4078      169.0\n",
       "4395      168.0\n",
       "3818      166.0\n",
       "1128      165.0\n",
       "4459      164.0\n",
       "1554      163.0\n",
       "1368      162.0\n",
       "28        161.0\n",
       "2173      160.0\n",
       "2078      158.0\n",
       "2753      156.0\n",
       "2129      155.0\n",
       "3236      154.0\n",
       "3945      153.0\n",
       "1701      149.0\n",
       "3185      148.0\n",
       "1033      147.0\n",
       "2663      146.0\n",
       "955       145.0\n",
       "4688      144.0\n",
       "2658      142.0\n",
       "886       140.0\n",
       "363       138.0\n",
       "128       136.0\n",
       "2384      134.0\n",
       "3868      133.0\n",
       "2486      132.0\n",
       "1773      131.0\n",
       "4161      130.0\n",
       "3463      129.0\n",
       "2189      128.0\n",
       "1687      127.0\n",
       "2489      122.0\n",
       "4577      118.0\n",
       "1389      117.0\n",
       "3514      116.0\n",
       "2385      114.0\n",
       "33        112.0\n",
       "1566      111.0\n",
       "410       101.0\n",
       "4684       94.0\n",
       "158        90.0\n",
       "Name: cost_per_item, dtype: float64"
      ]
     },
     "execution_count": 33,
     "metadata": {},
     "output_type": "execute_result"
    }
   ],
   "source": [
    "data[\"cost_per_item\"] = data[\"order_amount\"]/data[\"total_items\"]\n",
    "average_cost = data[\"cost_per_item\"].sort_values(ascending=False)\n",
    "\n",
    "# We can safely delete duplicates because we know that each shop only carries 1 type of shoes\n",
    "average_cost.drop_duplicates(inplace = True)\n",
    "average_cost"
   ]
  },
  {
   "cell_type": "code",
   "execution_count": 34,
   "metadata": {},
   "outputs": [
    {
     "data": {
      "text/plain": [
       "153.57894736842104"
      ]
     },
     "execution_count": 34,
     "metadata": {},
     "output_type": "execute_result"
    }
   ],
   "source": [
    "# Since this is a simple dataset, we can just see and remove the single outlier.\n",
    "average_cost.drop([3085], axis = 0, inplace = True)\n",
    "average_cost.mean()"
   ]
  },
  {
   "cell_type": "markdown",
   "metadata": {},
   "source": [
    "c. The average cost of a pair of shoes across 99 shopify stores is \\$153.58"
   ]
  },
  {
   "cell_type": "markdown",
   "metadata": {},
   "source": [
    "### Question 2\n",
    "\n",
    "<pre>\n",
    "a. Query: SELECT COUNT(Orders.ShipperID)\n",
    "          FROM Orders\n",
    "          INNER JOIN Shippers ON Orders.ShipperID = Shippers.ShipperID\\\n",
    "          WHERE Shippers.ShipperName = 'Speedy Express';\n",
    "          \n",
    "Answer: 54 orders were shipped by Speedy Express in total.\n",
    "\n",
    "b. Query: SELECT LastName, COUNT(LastName) AS NumOrders\n",
    "          FROM Orders\n",
    "          INNER JOIN Employees ON Employees.EmployeeID = Orders.EmployeeID\n",
    "          GROUP BY LastName\n",
    "          ORDER BY COUNT(LastName) DESC;\n",
    "\n",
    "Answer: The last name of the employee with the most orders is Peacock.\n",
    "\n",
    "c. Query: SELECT ProductName, SUM(Quantity) AS Total\n",
    "          FROM OrderDetails\n",
    "          LEFT JOIN Products ON OrderDetails.ProductID = Products.ProductID\n",
    "          WHERE OrderDetails.OrderID IN (SELECT OrderID FROM Orders Left Join Customers ON Orders.CustomerID = Customers.CustomerID WHERE Country = 'Germany')\n",
    "          GROUP BY ProductName\n",
    "          ORDER BY SUM(Quantity) DESC;\n",
    "\n",
    "Answer: Boston Crab Meat is the product that was ordered the most by customers in Germany.\n",
    "</pre>"
   ]
  },
  {
   "cell_type": "code",
   "execution_count": null,
   "metadata": {},
   "outputs": [],
   "source": []
  }
 ],
 "metadata": {
  "kernelspec": {
   "display_name": "Python 3",
   "language": "python",
   "name": "python3"
  },
  "language_info": {
   "codemirror_mode": {
    "name": "ipython",
    "version": 3
   },
   "file_extension": ".py",
   "mimetype": "text/x-python",
   "name": "python",
   "nbconvert_exporter": "python",
   "pygments_lexer": "ipython3",
   "version": "3.7.7"
  }
 },
 "nbformat": 4,
 "nbformat_minor": 4
}
